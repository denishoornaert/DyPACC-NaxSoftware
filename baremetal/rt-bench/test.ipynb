{
 "cells": [
  {
   "cell_type": "code",
   "execution_count": 14,
   "metadata": {},
   "outputs": [
    {
     "name": "stdout",
     "output_type": "stream",
     "text": [
      "BENCH_IIR  Code 0:\n",
      "    /opt/riscv32/lib/gcc/riscv32-unknown-elf/12.2.0/../../../../riscv32-unknown-elf/bin/ld: warning: build/rt-bench.elf has a LOAD segment with RWX permissions\n",
      "    \n"
     ]
    }
   ],
   "source": [
    "import os\n",
    "import subprocess\n",
    "\n",
    "tacl_path = os.path.join(os.getcwd(), \"src/tacl-bench\")\n",
    "\n",
    "for bench in os.listdir(tacl_path):\n",
    "    print(bench, end=\"\")\n",
    "\n",
    "    subprocess.run([\"make\", \"clean\"], check=True)\n",
    "    res = subprocess.run([\"make\", f\"WORKER_NUM=0\", f\"MAIN_CORE=0\", f\"MAIN_PRIO=7\", f\"BENCH={bench}\"], check=True, capture_output=True)\n",
    "    output = res.stderr.decode(\"utf-8\").replace(\"\\n\", \"\\n  \")\n",
    "    print(f\"={res.returncode}:\\n  {output}\")\n",
    "    break\n"
   ]
  }
 ],
 "metadata": {
  "kernelspec": {
   "display_name": "Python 3",
   "language": "python",
   "name": "python3"
  },
  "language_info": {
   "codemirror_mode": {
    "name": "ipython",
    "version": 3
   },
   "file_extension": ".py",
   "mimetype": "text/x-python",
   "name": "python",
   "nbconvert_exporter": "python",
   "pygments_lexer": "ipython3",
   "version": "3.10.12"
  }
 },
 "nbformat": 4,
 "nbformat_minor": 2
}
